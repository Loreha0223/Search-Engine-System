{
  "nbformat": 4,
  "nbformat_minor": 0,
  "metadata": {
    "colab": {
      "name": "20221정보검색_검색엔진(2019111642_김다혜).ipynb",
      "provenance": [],
      "collapsed_sections": []
    },
    "kernelspec": {
      "name": "python3",
      "display_name": "Python 3"
    },
    "language_info": {
      "name": "python"
    }
  },
  "cells": [
    {
      "cell_type": "markdown",
      "source": [
        "###1. import"
      ],
      "metadata": {
        "id": "TTCfmv2H-J5F"
      }
    },
    {
      "cell_type": "code",
      "execution_count": null,
      "metadata": {
        "colab": {
          "base_uri": "https://localhost:8080/"
        },
        "id": "RrF5zswTjItL",
        "outputId": "1ca020a2-9c14-41c7-82a5-220c439e7246"
      },
      "outputs": [
        {
          "output_type": "stream",
          "name": "stdout",
          "text": [
            "Looking in indexes: https://pypi.org/simple, https://us-python.pkg.dev/colab-wheels/public/simple/\n",
            "Collecting konlpy\n",
            "  Downloading konlpy-0.6.0-py2.py3-none-any.whl (19.4 MB)\n",
            "\u001b[K     |████████████████████████████████| 19.4 MB 1.2 MB/s \n",
            "\u001b[?25hRequirement already satisfied: numpy>=1.6 in /usr/local/lib/python3.7/dist-packages (from konlpy) (1.21.6)\n",
            "Collecting JPype1>=0.7.0\n",
            "  Downloading JPype1-1.4.0-cp37-cp37m-manylinux_2_5_x86_64.manylinux1_x86_64.whl (453 kB)\n",
            "\u001b[K     |████████████████████████████████| 453 kB 43.9 MB/s \n",
            "\u001b[?25hRequirement already satisfied: lxml>=4.1.0 in /usr/local/lib/python3.7/dist-packages (from konlpy) (4.2.6)\n",
            "Requirement already satisfied: typing-extensions in /usr/local/lib/python3.7/dist-packages (from JPype1>=0.7.0->konlpy) (4.2.0)\n",
            "Installing collected packages: JPype1, konlpy\n",
            "Successfully installed JPype1-1.4.0 konlpy-0.6.0\n"
          ]
        }
      ],
      "source": [
        "!pip install konlpy\n",
        "import pandas as pd # 데이터프레임 사용\n",
        "from math import log # IDF 계산\n",
        "from konlpy.tag import Kkma, Komoran, Okt # 형태소 분석\n",
        "import itertools\n",
        "from numpy import dot \n",
        "from numpy.linalg import norm"
      ]
    },
    {
      "cell_type": "markdown",
      "source": [
        "###2. Google 드라이브에 있는 .txt 파일 연결"
      ],
      "metadata": {
        "id": "sMU2gTvW-L-E"
      }
    },
    {
      "cell_type": "code",
      "source": [
        "from google.colab import drive\n",
        "drive.mount('/content/drive')\n",
        "f = open(\"/content/drive/MyDrive/정보검색/full_corpus.txt\", 'r', encoding='cp949')\n",
        "docs = f.read().split(\"<title>\")\n",
        "docs = [i.strip() for i in docs]\n",
        "docs.pop(0)\n",
        "f.close()"
      ],
      "metadata": {
        "colab": {
          "base_uri": "https://localhost:8080/"
        },
        "id": "HJy635qSj1u7",
        "outputId": "864f9a51-7156-4c19-ad62-d089843b8c12"
      },
      "execution_count": null,
      "outputs": [
        {
          "output_type": "stream",
          "name": "stdout",
          "text": [
            "Mounted at /content/drive\n"
          ]
        }
      ]
    },
    {
      "cell_type": "markdown",
      "source": [
        "###3. 함수 선언\n"
      ],
      "metadata": {
        "id": "7q32MV4XBoll"
      }
    },
    {
      "cell_type": "code",
      "source": [
        "# 총 문서의 수\n",
        "N = len(docs)\n",
        "\n",
        "def tf(t, d):\n",
        "  return d.count(t)\n",
        "\n",
        "def idf(t):\n",
        "  df = 0\n",
        "  for doc in docs:\n",
        "    df += t in doc\n",
        "  return log(N/(df+1))\n",
        "\n",
        "def tfidf(t, d):\n",
        "  return tf(t,d)* idf(t)\n",
        "\n",
        "def cos_sim(A, B):\n",
        "  return dot(A, B)/(norm(A)*norm(B))"
      ],
      "metadata": {
        "id": "7TnA1dF9lQjP"
      },
      "execution_count": null,
      "outputs": []
    },
    {
      "cell_type": "markdown",
      "source": [
        "###4. Indexing time"
      ],
      "metadata": {
        "id": "PwWUqQwfKIaq"
      }
    },
    {
      "cell_type": "code",
      "source": [
        "### 형태소 분류기 호출\n",
        "komoran = Komoran()\n",
        "okt = Okt()\n",
        "apb=[] # 단어 저장(중복x)\n",
        "\n",
        "### 추출된 단어 리스트에 다 때려박기\n",
        "for i in docs:\n",
        "    doc_i = komoran.nouns(i)\n",
        "    apb.append(doc_i)\n",
        "    doc_i = okt.nouns(i)\n",
        "    apb.append(doc_i)\n",
        "apb = list(set(itertools.chain(*apb))) # 중복단어 제거\n",
        "\n",
        "### docs에 있는 단어 전부 tf-idf 계산\n",
        "result=[]\n",
        "for i in range(N):\n",
        "    result.append([])\n",
        "    d = docs[i]\n",
        "    for j in range(len(apb)):\n",
        "        t = apb[j]\n",
        "        result[-1].append(tfidf(t,d))\n",
        "result.append([]) # query를 docs처럼 취급\n",
        "#df = pd.DataFrame(result, columns = apb)"
      ],
      "metadata": {
        "id": "ICnfH09njTKn"
      },
      "execution_count": null,
      "outputs": []
    },
    {
      "cell_type": "markdown",
      "source": [
        "###5. 검색하기 (Query time)"
      ],
      "metadata": {
        "id": "VEbXUM6iKPRW"
      }
    },
    {
      "cell_type": "code",
      "source": [
        "result[N]=[0]*len(apb) # 검색시 항상 query 초기화\n",
        "query = []\n",
        "q = input(\"검색창 > \")\n",
        "q_d = komoran.nouns(q)\n",
        "query.append(q_d)\n",
        "q_d = okt.nouns(q)\n",
        "query.append(q_d)\n",
        "query = list(set(itertools.chain(*query)))\n",
        "#print(query)\n",
        "\n",
        "### query에 있는 단어\n",
        "for d in query:\n",
        "    if d not in apb: \n",
        "        continue\n",
        "    result[N][apb.index(d)] = tfidf(d,d)\n",
        "#print(result[N])\n",
        "\n",
        "\n",
        "answer = []\n",
        "### 어느 doc과 유사한지 계산\n",
        "for i in range(len(docs)):\n",
        "    cos = cos_sim(result[i], result[N])\n",
        "    if cos!=0:\n",
        "        answer.append([i+1, cos])\n",
        "        #print(\"doc\",i+1,\":\", cos)\n",
        "answer.sort(key=lambda x:-x[1])\n",
        "\n",
        "#print(answer)\n",
        "\n",
        "### 검색결과가 있을 때\n",
        "print(\"검색결과는 >> doc \", end='')\n",
        "cnt = 0\n",
        "for i in range(len(answer)):\n",
        "    if cnt==5: break\n",
        "    print(answer[i][0], end=\",\")\n",
        "    cnt+=1\n",
        "print('\\b')"
      ],
      "metadata": {
        "colab": {
          "base_uri": "https://localhost:8080/"
        },
        "id": "fBOuPlRcKBrw",
        "outputId": "4f89fd0a-10e0-420a-c453-35921fa4dfc1"
      },
      "execution_count": null,
      "outputs": [
        {
          "output_type": "stream",
          "name": "stdout",
          "text": [
            "검색창 > 대통령\n",
            "검색결과는 >> doc 22,31,75,1,\b\n"
          ]
        }
      ]
    }
  ]
}